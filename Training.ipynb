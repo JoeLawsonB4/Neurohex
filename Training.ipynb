{
 "cells": [
  {
   "cell_type": "code",
   "execution_count": 99,
   "id": "7943639d",
   "metadata": {},
   "outputs": [
    {
     "name": "stdout",
     "output_type": "stream",
     "text": [
      "The tensorboard extension is already loaded. To reload it, use:\n",
      "  %reload_ext tensorboard\n"
     ]
    }
   ],
   "source": [
    "import tensorflow as tf\n",
    "tf.config.run_functions_eagerly(True)\n",
    "from tensorflow.keras import layers,models,metrics\n",
    "import matplotlib.pyplot as plt\n",
    "import numpy as np\n",
    "import os\n",
    "%load_ext tensorboard"
   ]
  },
  {
   "cell_type": "code",
   "execution_count": 100,
   "id": "ab8dce46",
   "metadata": {},
   "outputs": [],
   "source": [
    "CNNmodel = models.Sequential()\n",
    "CNNmodel.add(layers.Conv2D(128,(5,5),strides = 1, activation =\"relu\",padding = \"valid\" ,input_shape=(17,17,18)))\n",
    "CNNmodel.add(layers.Conv2D(128,(3,3),strides =1,padding = \"same\",activation = \"relu\",use_bias = 1))\n",
    "CNNmodel.add(layers.Conv2D(128,(3,3),strides =1,padding = \"same\",activation = \"relu\",use_bias = 1))\n",
    "CNNmodel.add(layers.Conv2D(128,(3,3),strides =1,padding = \"same\",activation = \"relu\",use_bias = 1))\n",
    "CNNmodel.add(layers.Conv2D(128,(3,3),strides =1,padding = \"same\",activation = \"relu\",use_bias = 1))\n",
    "CNNmodel.add(layers.Conv2D(128,(3,3),strides =1,padding = \"same\",activation = \"relu\",use_bias = 1))\n",
    "CNNmodel.add(layers.Conv2D(128,(3,3),strides =1,padding = \"same\",activation = \"relu\",use_bias = 1))\n",
    "CNNmodel.add(layers.Conv2D(128,(3,3),strides =1,padding = \"same\",activation = \"relu\",use_bias = 1))\n",
    "CNNmodel.add(layers.Conv2D(1,(1,1),strides = 1))\n",
    "CNNmodel.add(layers.Flatten())"
   ]
  },
  {
   "cell_type": "code",
   "execution_count": 101,
   "id": "d3baeab3",
   "metadata": {},
   "outputs": [
    {
     "name": "stdout",
     "output_type": "stream",
     "text": [
      "Model: \"sequential_8\"\n",
      "_________________________________________________________________\n",
      " Layer (type)                Output Shape              Param #   \n",
      "=================================================================\n",
      " conv2d_72 (Conv2D)          (None, 13, 13, 128)       57728     \n",
      "                                                                 \n",
      " conv2d_73 (Conv2D)          (None, 13, 13, 128)       147584    \n",
      "                                                                 \n",
      " conv2d_74 (Conv2D)          (None, 13, 13, 128)       147584    \n",
      "                                                                 \n",
      " conv2d_75 (Conv2D)          (None, 13, 13, 128)       147584    \n",
      "                                                                 \n",
      " conv2d_76 (Conv2D)          (None, 13, 13, 128)       147584    \n",
      "                                                                 \n",
      " conv2d_77 (Conv2D)          (None, 13, 13, 128)       147584    \n",
      "                                                                 \n",
      " conv2d_78 (Conv2D)          (None, 13, 13, 128)       147584    \n",
      "                                                                 \n",
      " conv2d_79 (Conv2D)          (None, 13, 13, 128)       147584    \n",
      "                                                                 \n",
      " conv2d_80 (Conv2D)          (None, 13, 13, 1)         129       \n",
      "                                                                 \n",
      " flatten_2 (Flatten)         (None, 169)               0         \n",
      "                                                                 \n",
      "=================================================================\n",
      "Total params: 1,090,945\n",
      "Trainable params: 1,090,945\n",
      "Non-trainable params: 0\n",
      "_________________________________________________________________\n"
     ]
    }
   ],
   "source": [
    "CNNmodel.summary()"
   ]
  },
  {
   "cell_type": "code",
   "execution_count": 102,
   "id": "518d4f3c",
   "metadata": {},
   "outputs": [
    {
     "name": "stdout",
     "output_type": "stream",
     "text": [
      "[150  48 107 ... 158 157   9]\n"
     ]
    }
   ],
   "source": [
    "data = np.load('data/scoredPositionsFull.npz')\n",
    "actionData = np.load('data/actions.npz')\n",
    "positions = data['positions']\n",
    "positions = positions.transpose(0,2,3,1)\n",
    "actions = actionData['actions']\n",
    "actions = np.delete(actions,0,1)\n",
    "actions = np.delete(actions,0,1)\n",
    "actions = np.delete(actions,14,1)\n",
    "actions = np.delete(actions,13,1)\n",
    "actions = np.delete(actions,0,2)\n",
    "actions = np.delete(actions,0,2)\n",
    "actions = np.delete(actions,14,2)\n",
    "actions = np.delete(actions,13,2)\n",
    "actions = np.reshape(actions,(539998,169))\n",
    "actions = np.where(actions == 1)\n",
    "actions = actions[1]\n",
    "print (actions)"
   ]
  },
  {
   "cell_type": "code",
   "execution_count": 103,
   "id": "642bdcbe",
   "metadata": {},
   "outputs": [],
   "source": [
    "CNNmodel.compile(optimizer = 'adam', loss = tf.keras.losses.SparseCategoricalCrossentropy(),metrics = [metrics.SparseCategoricalAccuracy()])"
   ]
  },
  {
   "cell_type": "code",
   "execution_count": 104,
   "id": "24a8ca6d",
   "metadata": {},
   "outputs": [],
   "source": [
    "checkpoint_path = \"training/cp-{epoch:04d}.ckpt\"\n",
    "checkpoint_dir = os.path.dirname(checkpoint_path)\n",
    "cp_callback = tf.keras.callbacks.ModelCheckpoint(filepath = checkpoint_path,verbose = 1, save_weights_only = True, save_freq = 5*128)"
   ]
  },
  {
   "cell_type": "code",
   "execution_count": 105,
   "id": "a08d2960",
   "metadata": {},
   "outputs": [],
   "source": [
    "callback = tf.keras.callbacks.EarlyStopping(monitor='loss', patience=3)"
   ]
  },
  {
   "cell_type": "code",
   "execution_count": 107,
   "id": "e1d0cc05",
   "metadata": {},
   "outputs": [],
   "source": [
    "import datetime\n",
    "log_dir = \"logs/fit/\" + datetime.datetime.now().strftime(\"%Y%m%d-%H%M%S\")\n",
    "tensorboard_callback = tf.keras.callbacks.TensorBoard(log_dir=log_dir, histogram_freq=1)"
   ]
  },
  {
   "cell_type": "code",
   "execution_count": 108,
   "id": "b6e52cfb",
   "metadata": {},
   "outputs": [],
   "source": [
    "positions_test = positions[-30000:]\n",
    "actions_test = actions[-30000:]\n",
    "positions_train = positions[:-30000]\n",
    "actions_train = actions[:-30000]"
   ]
  },
  {
   "cell_type": "code",
   "execution_count": 109,
   "id": "744a7ee8",
   "metadata": {
    "scrolled": true
   },
   "outputs": [
    {
     "name": "stdout",
     "output_type": "stream",
     "text": [
      "Epoch 1/20\n",
      "24/24 [==============================] - 35s 1s/step - loss: 5.2380 - sparse_categorical_accuracy: 0.0140 - val_loss: 5.1299 - val_sparse_categorical_accuracy: 6.6667e-04\n",
      "Epoch 2/20\n",
      "24/24 [==============================] - 32s 1s/step - loss: 5.1299 - sparse_categorical_accuracy: 3.3333e-04 - val_loss: 5.1299 - val_sparse_categorical_accuracy: 0.0010\n",
      "Epoch 3/20\n",
      "24/24 [==============================] - 33s 1s/step - loss: 5.1299 - sparse_categorical_accuracy: 3.3333e-04 - val_loss: 5.1299 - val_sparse_categorical_accuracy: 0.0010\n",
      "Epoch 4/20\n",
      "24/24 [==============================] - 33s 1s/step - loss: 5.1299 - sparse_categorical_accuracy: 3.3333e-04 - val_loss: 5.1299 - val_sparse_categorical_accuracy: 0.0010\n",
      "Epoch 5/20\n",
      "24/24 [==============================] - 32s 1s/step - loss: 5.1299 - sparse_categorical_accuracy: 3.3333e-04 - val_loss: 5.1299 - val_sparse_categorical_accuracy: 0.0010\n"
     ]
    }
   ],
   "source": [
    "trained = CNNmodel.fit(positions_train,actions_train,batch_size = 128, epochs = 50,validation_data= (positions_test,actions_test),callbacks= [cp_callback,callback,tensorboard_callback])"
   ]
  },
  {
   "cell_type": "code",
   "execution_count": null,
   "id": "89985502",
   "metadata": {},
   "outputs": [],
   "source": []
  }
 ],
 "metadata": {
  "kernelspec": {
   "display_name": "Python 3 (ipykernel)",
   "language": "python",
   "name": "python3"
  },
  "language_info": {
   "codemirror_mode": {
    "name": "ipython",
    "version": 3
   },
   "file_extension": ".py",
   "mimetype": "text/x-python",
   "name": "python",
   "nbconvert_exporter": "python",
   "pygments_lexer": "ipython3",
   "version": "3.10.3"
  }
 },
 "nbformat": 4,
 "nbformat_minor": 5
}
